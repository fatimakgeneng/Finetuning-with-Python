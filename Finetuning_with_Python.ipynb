{
  "cells": [
    {
      "cell_type": "markdown",
      "metadata": {
        "id": "view-in-github",
        "colab_type": "text"
      },
      "source": [
        "<a href=\"https://colab.research.google.com/github/fatimakgeneng/Finetuning-with-Python/blob/main/Finetuning_with_Python.ipynb\" target=\"_parent\"><img src=\"https://colab.research.google.com/assets/colab-badge.svg\" alt=\"Open In Colab\"/></a>"
      ]
    },
    {
      "cell_type": "markdown",
      "metadata": {
        "id": "yeadDkMiISin"
      },
      "source": [
        "# **Gemini API: Model tuning with Python**"
      ]
    },
    {
      "cell_type": "code",
      "source": [
        "# Setup\n",
        "%pip install -Uq google-generativeai rich  #Rich is just for printing in clear format"
      ],
      "metadata": {
        "id": "YDR4RzLvKhR0"
      },
      "execution_count": 57,
      "outputs": []
    },
    {
      "cell_type": "code",
      "execution_count": 58,
      "metadata": {
        "id": "8enrppafJPCX"
      },
      "outputs": [],
      "source": [
        "# Importing Libraries\n",
        "import google.generativeai as genai\n",
        "from rich import print\n",
        "from google.colab import userdata\n",
        "genai.configure(api_key=userdata.get('GOOGLE_API_KEY'))"
      ]
    },
    {
      "cell_type": "markdown",
      "source": [
        "## Before Finetuning"
      ],
      "metadata": {
        "id": "GSXRgWe5Lqks"
      }
    },
    {
      "cell_type": "code",
      "source": [
        "model = genai.GenerativeModel(model_name=\"models/gemini-1.5-flash-001\")\n",
        "\n",
        "query = \"55\"\n",
        "result = model.generate_content(query)\n",
        "print(f\"Query 1: {query}\\nResult: {result.text}\")\n",
        "\n",
        "query = \"123455\"\n",
        "result = model.generate_content(query)\n",
        "print(f\"Query 2: {query}\\nResult: {result.text}\")\n",
        "\n",
        "query = \"four\"\n",
        "result = model.generate_content(query)\n",
        "print(f\"Query 3: {query}\\nResult: {result.text}\")\n",
        "\n",
        "query = \"quatre\" #4\n",
        "result = model.generate_content(query)\n",
        "print(f\"Query 4: {query}\\nResult: {result.text}\")\n",
        "\n",
        "query = \"III\"\n",
        "result = model.generate_content(query)\n",
        "print(f\"Query 5: {query}\\nResult: {result.text}\")\n",
        "\n",
        "query = \"七\" #7\n",
        "result = model.generate_content(query)\n",
        "print(f\"Query 6: {query}\\nResult: {result.text}\")\n",
        "\n"
      ],
      "metadata": {
        "colab": {
          "base_uri": "https://localhost:8080/",
          "height": 1000
        },
        "collapsed": true,
        "id": "7TmhYtwMLuZ7",
        "outputId": "88a1428b-c16b-4260-b896-288f2f564865"
      },
      "execution_count": 59,
      "outputs": [
        {
          "output_type": "display_data",
          "data": {
            "text/plain": [
              "Query \u001b[1;36m1\u001b[0m: \u001b[1;36m55\u001b[0m\n",
              "Result: \u001b[1;36m55\u001b[0m is a fascinating number!  What would you like to know about it? \n",
              "\n",
              "For example, I could tell you:\n",
              "\n",
              "* **It's an odd number.**\n",
              "* **It's a prime number.** \n",
              "* **It's the sum of the first five odd numbers.** \n",
              "* **It's the atomic number of cesium.** \n",
              "\n",
              "Let me know what you'd like to explore! \n",
              "\n"
            ],
            "text/html": [
              "<pre style=\"white-space:pre;overflow-x:auto;line-height:normal;font-family:Menlo,'DejaVu Sans Mono',consolas,'Courier New',monospace\">Query <span style=\"color: #008080; text-decoration-color: #008080; font-weight: bold\">1</span>: <span style=\"color: #008080; text-decoration-color: #008080; font-weight: bold\">55</span>\n",
              "Result: <span style=\"color: #008080; text-decoration-color: #008080; font-weight: bold\">55</span> is a fascinating number!  What would you like to know about it? \n",
              "\n",
              "For example, I could tell you:\n",
              "\n",
              "* **It's an odd number.**\n",
              "* **It's a prime number.** \n",
              "* **It's the sum of the first five odd numbers.** \n",
              "* **It's the atomic number of cesium.** \n",
              "\n",
              "Let me know what you'd like to explore! \n",
              "\n",
              "</pre>\n"
            ]
          },
          "metadata": {}
        },
        {
          "output_type": "display_data",
          "data": {
            "text/plain": [
              "Query \u001b[1;36m2\u001b[0m: \u001b[1;36m123455\u001b[0m\n",
              "Result: That's a number! Is there anything you'd like me to do with it? For example:\n",
              "\n",
              "* **What is the sum of the digits?** \n",
              "* **Is it a prime number?** \n",
              "* **What is the next number in the sequence?**\n",
              "\n",
              "Let me know, and I'll help! \n",
              "\n"
            ],
            "text/html": [
              "<pre style=\"white-space:pre;overflow-x:auto;line-height:normal;font-family:Menlo,'DejaVu Sans Mono',consolas,'Courier New',monospace\">Query <span style=\"color: #008080; text-decoration-color: #008080; font-weight: bold\">2</span>: <span style=\"color: #008080; text-decoration-color: #008080; font-weight: bold\">123455</span>\n",
              "Result: That's a number! Is there anything you'd like me to do with it? For example:\n",
              "\n",
              "* **What is the sum of the digits?** \n",
              "* **Is it a prime number?** \n",
              "* **What is the next number in the sequence?**\n",
              "\n",
              "Let me know, and I'll help! \n",
              "\n",
              "</pre>\n"
            ]
          },
          "metadata": {}
        },
        {
          "output_type": "display_data",
          "data": {
            "text/plain": [
              "Query \u001b[1;36m3\u001b[0m: four\n",
              "Result: Four is a fascinating number! It's the smallest composite number \u001b[1m(\u001b[0mmeaning it has more than two factors\u001b[1m)\u001b[0m, a \n",
              "perfect square, and the number of sides on a square.  \n",
              "\n",
              "What would you like to know about four?  For example, do you want to: \n",
              "\n",
              "* **Learn more about its mathematical properties?**\n",
              "* **See some examples of things that come in fours?**\n",
              "* **Discover some fun facts about the number four?** \n",
              "\n",
              "Let me know and I'll do my best to help! \n",
              "\n"
            ],
            "text/html": [
              "<pre style=\"white-space:pre;overflow-x:auto;line-height:normal;font-family:Menlo,'DejaVu Sans Mono',consolas,'Courier New',monospace\">Query <span style=\"color: #008080; text-decoration-color: #008080; font-weight: bold\">3</span>: four\n",
              "Result: Four is a fascinating number! It's the smallest composite number <span style=\"font-weight: bold\">(</span>meaning it has more than two factors<span style=\"font-weight: bold\">)</span>, a \n",
              "perfect square, and the number of sides on a square.  \n",
              "\n",
              "What would you like to know about four?  For example, do you want to: \n",
              "\n",
              "* **Learn more about its mathematical properties?**\n",
              "* **See some examples of things that come in fours?**\n",
              "* **Discover some fun facts about the number four?** \n",
              "\n",
              "Let me know and I'll do my best to help! \n",
              "\n",
              "</pre>\n"
            ]
          },
          "metadata": {}
        },
        {
          "output_type": "display_data",
          "data": {
            "text/plain": [
              "Query \u001b[1;36m4\u001b[0m: quatre\n",
              "Result: \u001b[32m\"Quatre\"\u001b[0m is the French word for **four**.  \n",
              "\n",
              "Is there anything else you'd like to know about the number four or the word \u001b[32m\"quatre\"\u001b[0m? \n",
              "\n"
            ],
            "text/html": [
              "<pre style=\"white-space:pre;overflow-x:auto;line-height:normal;font-family:Menlo,'DejaVu Sans Mono',consolas,'Courier New',monospace\">Query <span style=\"color: #008080; text-decoration-color: #008080; font-weight: bold\">4</span>: quatre\n",
              "Result: <span style=\"color: #008000; text-decoration-color: #008000\">\"Quatre\"</span> is the French word for **four**.  \n",
              "\n",
              "Is there anything else you'd like to know about the number four or the word <span style=\"color: #008000; text-decoration-color: #008000\">\"quatre\"</span>? \n",
              "\n",
              "</pre>\n"
            ]
          },
          "metadata": {}
        },
        {
          "output_type": "display_data",
          "data": {
            "text/plain": [
              "Query \u001b[1;36m5\u001b[0m: III\n",
              "Result: Please provide me with more context! \u001b[32m\"III\"\u001b[0m by itself is not a complete question or statement. \n",
              "\n",
              "To help me understand what you're asking, please tell me:\n",
              "\n",
              "* **What is the subject matter?** Is this related to a book, movie, song, or something else?\n",
              "* **What is the context of \u001b[32m\"III\"\u001b[0m?**  Is it a chapter number, a part of a title, or something else?\n",
              "\n",
              "Once I have more information, I can provide a helpful response! \n",
              "\n"
            ],
            "text/html": [
              "<pre style=\"white-space:pre;overflow-x:auto;line-height:normal;font-family:Menlo,'DejaVu Sans Mono',consolas,'Courier New',monospace\">Query <span style=\"color: #008080; text-decoration-color: #008080; font-weight: bold\">5</span>: III\n",
              "Result: Please provide me with more context! <span style=\"color: #008000; text-decoration-color: #008000\">\"III\"</span> by itself is not a complete question or statement. \n",
              "\n",
              "To help me understand what you're asking, please tell me:\n",
              "\n",
              "* **What is the subject matter?** Is this related to a book, movie, song, or something else?\n",
              "* **What is the context of <span style=\"color: #008000; text-decoration-color: #008000\">\"III\"</span>?**  Is it a chapter number, a part of a title, or something else?\n",
              "\n",
              "Once I have more information, I can provide a helpful response! \n",
              "\n",
              "</pre>\n"
            ]
          },
          "metadata": {}
        },
        {
          "output_type": "display_data",
          "data": {
            "text/plain": [
              "Query \u001b[1;36m6\u001b[0m: 七\n",
              "Result: 七是一个数字，是介于六和八之间的自然数。 \n",
              "\n",
              "你想知道关于七的什么？  例如：\n",
              "\n",
              "* 七的性质（质数，奇数等）\n",
              "* 与七相关的文化意义\n",
              "* 七在数学中的应用\n",
              "* 与七相关的谚语或俗语\n",
              "\n",
              "请告诉我你感兴趣的方面，我会尽力提供更多信息。 \n",
              "\n"
            ],
            "text/html": [
              "<pre style=\"white-space:pre;overflow-x:auto;line-height:normal;font-family:Menlo,'DejaVu Sans Mono',consolas,'Courier New',monospace\">Query <span style=\"color: #008080; text-decoration-color: #008080; font-weight: bold\">6</span>: 七\n",
              "Result: 七是一个数字，是介于六和八之间的自然数。 \n",
              "\n",
              "你想知道关于七的什么？  例如：\n",
              "\n",
              "* 七的性质（质数，奇数等）\n",
              "* 与七相关的文化意义\n",
              "* 七在数学中的应用\n",
              "* 与七相关的谚语或俗语\n",
              "\n",
              "请告诉我你感兴趣的方面，我会尽力提供更多信息。 \n",
              "\n",
              "</pre>\n"
            ]
          },
          "metadata": {}
        }
      ]
    },
    {
      "cell_type": "markdown",
      "source": [
        "# Preparing Data for Finetuning"
      ],
      "metadata": {
        "id": "7r29oFGwQXpR"
      }
    },
    {
      "cell_type": "code",
      "source": [
        "import random\n",
        "import time"
      ],
      "metadata": {
        "id": "BnWVoJMpLqRD"
      },
      "execution_count": 60,
      "outputs": []
    },
    {
      "cell_type": "code",
      "source": [
        "# Printing the list of available models\n",
        "print(\"Available base models:\", [m.name for m in genai.list_models()])"
      ],
      "metadata": {
        "colab": {
          "base_uri": "https://localhost:8080/",
          "height": 697
        },
        "collapsed": true,
        "id": "KtsJ2fT8Lo77",
        "outputId": "f313a55f-7eda-4bd5-bcd1-c20414a112f2"
      },
      "execution_count": 61,
      "outputs": [
        {
          "output_type": "display_data",
          "data": {
            "text/plain": [
              "Available base models:\n",
              "\u001b[1m[\u001b[0m\n",
              "    \u001b[32m'models/chat-bison-001'\u001b[0m,\n",
              "    \u001b[32m'models/text-bison-001'\u001b[0m,\n",
              "    \u001b[32m'models/embedding-gecko-001'\u001b[0m,\n",
              "    \u001b[32m'models/gemini-1.0-pro-latest'\u001b[0m,\n",
              "    \u001b[32m'models/gemini-1.0-pro'\u001b[0m,\n",
              "    \u001b[32m'models/gemini-pro'\u001b[0m,\n",
              "    \u001b[32m'models/gemini-1.0-pro-001'\u001b[0m,\n",
              "    \u001b[32m'models/gemini-1.0-pro-vision-latest'\u001b[0m,\n",
              "    \u001b[32m'models/gemini-pro-vision'\u001b[0m,\n",
              "    \u001b[32m'models/gemini-1.5-pro-latest'\u001b[0m,\n",
              "    \u001b[32m'models/gemini-1.5-pro-001'\u001b[0m,\n",
              "    \u001b[32m'models/gemini-1.5-pro-002'\u001b[0m,\n",
              "    \u001b[32m'models/gemini-1.5-pro'\u001b[0m,\n",
              "    \u001b[32m'models/gemini-1.5-pro-exp-0801'\u001b[0m,\n",
              "    \u001b[32m'models/gemini-1.5-pro-exp-0827'\u001b[0m,\n",
              "    \u001b[32m'models/gemini-1.5-flash-latest'\u001b[0m,\n",
              "    \u001b[32m'models/gemini-1.5-flash-001'\u001b[0m,\n",
              "    \u001b[32m'models/gemini-1.5-flash-001-tuning'\u001b[0m,\n",
              "    \u001b[32m'models/gemini-1.5-flash'\u001b[0m,\n",
              "    \u001b[32m'models/gemini-1.5-flash-exp-0827'\u001b[0m,\n",
              "    \u001b[32m'models/gemini-1.5-flash-002'\u001b[0m,\n",
              "    \u001b[32m'models/gemini-1.5-flash-8b'\u001b[0m,\n",
              "    \u001b[32m'models/gemini-1.5-flash-8b-001'\u001b[0m,\n",
              "    \u001b[32m'models/gemini-1.5-flash-8b-latest'\u001b[0m,\n",
              "    \u001b[32m'models/gemini-1.5-flash-8b-exp-0827'\u001b[0m,\n",
              "    \u001b[32m'models/gemini-1.5-flash-8b-exp-0924'\u001b[0m,\n",
              "    \u001b[32m'models/gemini-2.0-flash-exp'\u001b[0m,\n",
              "    \u001b[32m'models/gemini-exp-1206'\u001b[0m,\n",
              "    \u001b[32m'models/gemini-exp-1121'\u001b[0m,\n",
              "    \u001b[32m'models/gemini-exp-1114'\u001b[0m,\n",
              "    \u001b[32m'models/gemini-2.0-flash-thinking-exp-01-21'\u001b[0m,\n",
              "    \u001b[32m'models/gemini-2.0-flash-thinking-exp'\u001b[0m,\n",
              "    \u001b[32m'models/gemini-2.0-flash-thinking-exp-1219'\u001b[0m,\n",
              "    \u001b[32m'models/learnlm-1.5-pro-experimental'\u001b[0m,\n",
              "    \u001b[32m'models/embedding-001'\u001b[0m,\n",
              "    \u001b[32m'models/text-embedding-004'\u001b[0m,\n",
              "    \u001b[32m'models/aqa'\u001b[0m\n",
              "\u001b[1m]\u001b[0m\n"
            ],
            "text/html": [
              "<pre style=\"white-space:pre;overflow-x:auto;line-height:normal;font-family:Menlo,'DejaVu Sans Mono',consolas,'Courier New',monospace\">Available base models:\n",
              "<span style=\"font-weight: bold\">[</span>\n",
              "    <span style=\"color: #008000; text-decoration-color: #008000\">'models/chat-bison-001'</span>,\n",
              "    <span style=\"color: #008000; text-decoration-color: #008000\">'models/text-bison-001'</span>,\n",
              "    <span style=\"color: #008000; text-decoration-color: #008000\">'models/embedding-gecko-001'</span>,\n",
              "    <span style=\"color: #008000; text-decoration-color: #008000\">'models/gemini-1.0-pro-latest'</span>,\n",
              "    <span style=\"color: #008000; text-decoration-color: #008000\">'models/gemini-1.0-pro'</span>,\n",
              "    <span style=\"color: #008000; text-decoration-color: #008000\">'models/gemini-pro'</span>,\n",
              "    <span style=\"color: #008000; text-decoration-color: #008000\">'models/gemini-1.0-pro-001'</span>,\n",
              "    <span style=\"color: #008000; text-decoration-color: #008000\">'models/gemini-1.0-pro-vision-latest'</span>,\n",
              "    <span style=\"color: #008000; text-decoration-color: #008000\">'models/gemini-pro-vision'</span>,\n",
              "    <span style=\"color: #008000; text-decoration-color: #008000\">'models/gemini-1.5-pro-latest'</span>,\n",
              "    <span style=\"color: #008000; text-decoration-color: #008000\">'models/gemini-1.5-pro-001'</span>,\n",
              "    <span style=\"color: #008000; text-decoration-color: #008000\">'models/gemini-1.5-pro-002'</span>,\n",
              "    <span style=\"color: #008000; text-decoration-color: #008000\">'models/gemini-1.5-pro'</span>,\n",
              "    <span style=\"color: #008000; text-decoration-color: #008000\">'models/gemini-1.5-pro-exp-0801'</span>,\n",
              "    <span style=\"color: #008000; text-decoration-color: #008000\">'models/gemini-1.5-pro-exp-0827'</span>,\n",
              "    <span style=\"color: #008000; text-decoration-color: #008000\">'models/gemini-1.5-flash-latest'</span>,\n",
              "    <span style=\"color: #008000; text-decoration-color: #008000\">'models/gemini-1.5-flash-001'</span>,\n",
              "    <span style=\"color: #008000; text-decoration-color: #008000\">'models/gemini-1.5-flash-001-tuning'</span>,\n",
              "    <span style=\"color: #008000; text-decoration-color: #008000\">'models/gemini-1.5-flash'</span>,\n",
              "    <span style=\"color: #008000; text-decoration-color: #008000\">'models/gemini-1.5-flash-exp-0827'</span>,\n",
              "    <span style=\"color: #008000; text-decoration-color: #008000\">'models/gemini-1.5-flash-002'</span>,\n",
              "    <span style=\"color: #008000; text-decoration-color: #008000\">'models/gemini-1.5-flash-8b'</span>,\n",
              "    <span style=\"color: #008000; text-decoration-color: #008000\">'models/gemini-1.5-flash-8b-001'</span>,\n",
              "    <span style=\"color: #008000; text-decoration-color: #008000\">'models/gemini-1.5-flash-8b-latest'</span>,\n",
              "    <span style=\"color: #008000; text-decoration-color: #008000\">'models/gemini-1.5-flash-8b-exp-0827'</span>,\n",
              "    <span style=\"color: #008000; text-decoration-color: #008000\">'models/gemini-1.5-flash-8b-exp-0924'</span>,\n",
              "    <span style=\"color: #008000; text-decoration-color: #008000\">'models/gemini-2.0-flash-exp'</span>,\n",
              "    <span style=\"color: #008000; text-decoration-color: #008000\">'models/gemini-exp-1206'</span>,\n",
              "    <span style=\"color: #008000; text-decoration-color: #008000\">'models/gemini-exp-1121'</span>,\n",
              "    <span style=\"color: #008000; text-decoration-color: #008000\">'models/gemini-exp-1114'</span>,\n",
              "    <span style=\"color: #008000; text-decoration-color: #008000\">'models/gemini-2.0-flash-thinking-exp-01-21'</span>,\n",
              "    <span style=\"color: #008000; text-decoration-color: #008000\">'models/gemini-2.0-flash-thinking-exp'</span>,\n",
              "    <span style=\"color: #008000; text-decoration-color: #008000\">'models/gemini-2.0-flash-thinking-exp-1219'</span>,\n",
              "    <span style=\"color: #008000; text-decoration-color: #008000\">'models/learnlm-1.5-pro-experimental'</span>,\n",
              "    <span style=\"color: #008000; text-decoration-color: #008000\">'models/embedding-001'</span>,\n",
              "    <span style=\"color: #008000; text-decoration-color: #008000\">'models/text-embedding-004'</span>,\n",
              "    <span style=\"color: #008000; text-decoration-color: #008000\">'models/aqa'</span>\n",
              "<span style=\"font-weight: bold\">]</span>\n",
              "</pre>\n"
            ]
          },
          "metadata": {}
        }
      ]
    },
    {
      "cell_type": "code",
      "source": [
        "# Choosing a base model which will be tuned\n",
        "base_model = [\n",
        "    m for m in genai.list_models()\n",
        "    if \"createTunedModel\" in m.supported_generation_methods][1]\n",
        "print(base_model)"
      ],
      "metadata": {
        "colab": {
          "base_uri": "https://localhost:8080/",
          "height": 272
        },
        "id": "BUo5brYoLopM",
        "outputId": "520cb434-136a-4ed7-efca-bf3aedd36669",
        "collapsed": true
      },
      "execution_count": 62,
      "outputs": [
        {
          "output_type": "display_data",
          "data": {
            "text/plain": [
              "\u001b[1;35mModel\u001b[0m\u001b[1m(\u001b[0m\n",
              "    \u001b[33mname\u001b[0m=\u001b[32m'models/gemini-1.5-flash-001-tuning'\u001b[0m,\n",
              "    \u001b[33mbase_model_id\u001b[0m=\u001b[32m''\u001b[0m,\n",
              "    \u001b[33mversion\u001b[0m=\u001b[32m'001'\u001b[0m,\n",
              "    \u001b[33mdisplay_name\u001b[0m=\u001b[32m'Gemini 1.5 Flash 001 Tuning'\u001b[0m,\n",
              "    \u001b[33mdescription\u001b[0m=\u001b[32m'Version of Gemini 1.5 Flash that supports tuning, our fast and versatile multimodal model for \u001b[0m\n",
              "\u001b[32mscaling across diverse tasks, released in May of 2024.'\u001b[0m,\n",
              "    \u001b[33minput_token_limit\u001b[0m=\u001b[1;36m16384\u001b[0m,\n",
              "    \u001b[33moutput_token_limit\u001b[0m=\u001b[1;36m8192\u001b[0m,\n",
              "    \u001b[33msupported_generation_methods\u001b[0m=\u001b[1m[\u001b[0m\u001b[32m'generateContent'\u001b[0m, \u001b[32m'countTokens'\u001b[0m, \u001b[32m'createTunedModel'\u001b[0m\u001b[1m]\u001b[0m,\n",
              "    \u001b[33mtemperature\u001b[0m=\u001b[1;36m1\u001b[0m\u001b[1;36m.0\u001b[0m,\n",
              "    \u001b[33mmax_temperature\u001b[0m=\u001b[1;36m2\u001b[0m\u001b[1;36m.0\u001b[0m,\n",
              "    \u001b[33mtop_p\u001b[0m=\u001b[1;36m0\u001b[0m\u001b[1;36m.95\u001b[0m,\n",
              "    \u001b[33mtop_k\u001b[0m=\u001b[1;36m64\u001b[0m\n",
              "\u001b[1m)\u001b[0m\n"
            ],
            "text/html": [
              "<pre style=\"white-space:pre;overflow-x:auto;line-height:normal;font-family:Menlo,'DejaVu Sans Mono',consolas,'Courier New',monospace\"><span style=\"color: #800080; text-decoration-color: #800080; font-weight: bold\">Model</span><span style=\"font-weight: bold\">(</span>\n",
              "    <span style=\"color: #808000; text-decoration-color: #808000\">name</span>=<span style=\"color: #008000; text-decoration-color: #008000\">'models/gemini-1.5-flash-001-tuning'</span>,\n",
              "    <span style=\"color: #808000; text-decoration-color: #808000\">base_model_id</span>=<span style=\"color: #008000; text-decoration-color: #008000\">''</span>,\n",
              "    <span style=\"color: #808000; text-decoration-color: #808000\">version</span>=<span style=\"color: #008000; text-decoration-color: #008000\">'001'</span>,\n",
              "    <span style=\"color: #808000; text-decoration-color: #808000\">display_name</span>=<span style=\"color: #008000; text-decoration-color: #008000\">'Gemini 1.5 Flash 001 Tuning'</span>,\n",
              "    <span style=\"color: #808000; text-decoration-color: #808000\">description</span>=<span style=\"color: #008000; text-decoration-color: #008000\">'Version of Gemini 1.5 Flash that supports tuning, our fast and versatile multimodal model for </span>\n",
              "<span style=\"color: #008000; text-decoration-color: #008000\">scaling across diverse tasks, released in May of 2024.'</span>,\n",
              "    <span style=\"color: #808000; text-decoration-color: #808000\">input_token_limit</span>=<span style=\"color: #008080; text-decoration-color: #008080; font-weight: bold\">16384</span>,\n",
              "    <span style=\"color: #808000; text-decoration-color: #808000\">output_token_limit</span>=<span style=\"color: #008080; text-decoration-color: #008080; font-weight: bold\">8192</span>,\n",
              "    <span style=\"color: #808000; text-decoration-color: #808000\">supported_generation_methods</span>=<span style=\"font-weight: bold\">[</span><span style=\"color: #008000; text-decoration-color: #008000\">'generateContent'</span>, <span style=\"color: #008000; text-decoration-color: #008000\">'countTokens'</span>, <span style=\"color: #008000; text-decoration-color: #008000\">'createTunedModel'</span><span style=\"font-weight: bold\">]</span>,\n",
              "    <span style=\"color: #808000; text-decoration-color: #808000\">temperature</span>=<span style=\"color: #008080; text-decoration-color: #008080; font-weight: bold\">1.0</span>,\n",
              "    <span style=\"color: #808000; text-decoration-color: #808000\">max_temperature</span>=<span style=\"color: #008080; text-decoration-color: #008080; font-weight: bold\">2.0</span>,\n",
              "    <span style=\"color: #808000; text-decoration-color: #808000\">top_p</span>=<span style=\"color: #008080; text-decoration-color: #008080; font-weight: bold\">0.95</span>,\n",
              "    <span style=\"color: #808000; text-decoration-color: #808000\">top_k</span>=<span style=\"color: #008080; text-decoration-color: #008080; font-weight: bold\">64</span>\n",
              "<span style=\"font-weight: bold\">)</span>\n",
              "</pre>\n"
            ]
          },
          "metadata": {}
        }
      ]
    },
    {
      "cell_type": "code",
      "source": [
        "# Setting name for our model\n",
        "name = f'fatimakgeneng{random.randint(0,10)}'"
      ],
      "metadata": {
        "id": "cxXso9FMSZd3"
      },
      "execution_count": 63,
      "outputs": []
    },
    {
      "cell_type": "code",
      "source": [
        "# Tuning Data\n",
        "operation = genai.create_tuned_model(\n",
        "    source_model=base_model.name,\n",
        "    training_data=[\n",
        "        {'text_input': '1', 'output': '2'},\n",
        "        {'text_input': '3', 'output': '4'},\n",
        "        {'text_input': '-3', 'output': '-2'},\n",
        "        {'text_input': 'twenty two', 'output': 'twenty three'},\n",
        "        {'text_input': 'two hundred', 'output': 'two hundred one'},\n",
        "        {'text_input': 'ninety nine', 'output': 'one hundred'},\n",
        "        {'text_input': '8', 'output': '9'},\n",
        "        {'text_input': '-98', 'output': '-97'},\n",
        "        {'text_input': '1,000', 'output': '1,001'},\n",
        "        {'text_input': '10,100,000', 'output': '10,100,001'},\n",
        "        {'text_input': 'thirteen', 'output': 'fourteen'},\n",
        "        {'text_input': 'eighty', 'output': 'eighty one'},\n",
        "        {'text_input': 'one', 'output': 'two'},\n",
        "        {'text_input': 'three', 'output': 'four'},\n",
        "        {'text_input': 'seven', 'output': 'eight'},\n",
        "    ],\n",
        "    id=name,\n",
        "    epoch_count=5,\n",
        "    batch_size=4,\n",
        "    learning_rate=0.001,\n",
        ")"
      ],
      "metadata": {
        "id": "ENH9YOMySZSg"
      },
      "execution_count": 64,
      "outputs": []
    },
    {
      "cell_type": "code",
      "source": [
        "# Checking model status\n",
        "model = genai.get_tuned_model(f'tunedModels/{name}')\n",
        "print(model.state)\n"
      ],
      "metadata": {
        "colab": {
          "base_uri": "https://localhost:8080/",
          "height": 34
        },
        "id": "rR1kgk2tj9gX",
        "outputId": "ca48ef7f-4b49-4cb9-f362-10856a22de6f"
      },
      "execution_count": 65,
      "outputs": [
        {
          "output_type": "display_data",
          "data": {
            "text/plain": [
              "\u001b[1;36m1\u001b[0m\n"
            ],
            "text/html": [
              "<pre style=\"white-space:pre;overflow-x:auto;line-height:normal;font-family:Menlo,'DejaVu Sans Mono',consolas,'Courier New',monospace\"><span style=\"color: #008080; text-decoration-color: #008080; font-weight: bold\">1</span>\n",
              "</pre>\n"
            ]
          },
          "metadata": {}
        }
      ]
    },
    {
      "cell_type": "code",
      "source": [
        "# Waiting for the training to finish\n",
        "for status in operation.wait_bar():\n",
        "  time.sleep(30)"
      ],
      "metadata": {
        "colab": {
          "base_uri": "https://localhost:8080/",
          "height": 49,
          "referenced_widgets": [
            "3db5d4e9a9644d028194d8c866899c57",
            "1ce72a3be85b4af086df1748bb001df2",
            "f9898f12abbb40df8a0ca7b530d89a82",
            "f17f6b78e0234532a4988dd3f143f74c",
            "2aba28d8da0c4d008b20610fe3b08142",
            "fc5480f46c284c6ca8ebc40b2600c470",
            "45bed33b1a6c4bf3a278ef8d55f4d807",
            "8986687e4f8d472d9fbb5c5f2323e4aa",
            "4d0372ad47234a478d52928036e3b085",
            "43b28369df1440fcbaa4e6230941f04e",
            "0bdadc73b4d242b5b8ce6a5de298fb51"
          ]
        },
        "id": "0XnMAa6xj9XQ",
        "outputId": "400b3513-5a3c-4fe9-a4a7-484b1139bd43"
      },
      "execution_count": 66,
      "outputs": [
        {
          "output_type": "display_data",
          "data": {
            "text/plain": [
              "  0%|          | 0/19 [00:00<?, ?it/s]"
            ],
            "application/vnd.jupyter.widget-view+json": {
              "version_major": 2,
              "version_minor": 0,
              "model_id": "3db5d4e9a9644d028194d8c866899c57"
            }
          },
          "metadata": {}
        }
      ]
    },
    {
      "cell_type": "markdown",
      "source": [
        "# Evaluating the created model"
      ],
      "metadata": {
        "id": "DyyCVUcRlz9w"
      }
    },
    {
      "cell_type": "markdown",
      "metadata": {
        "id": "P-MYZECwlRCq"
      },
      "source": [
        "Check the existing tuned models with `genai.list_tuned_model` method."
      ]
    },
    {
      "cell_type": "code",
      "execution_count": 67,
      "metadata": {
        "id": "XyWzoYFxU4r6",
        "outputId": "4d392b11-ad15-4635-a6bd-aa828c4d267d",
        "colab": {
          "base_uri": "https://localhost:8080/",
          "height": 51
        }
      },
      "outputs": [
        {
          "output_type": "display_data",
          "data": {
            "text/plain": [
              "tunedModels/fatimakgeneng2\n"
            ],
            "text/html": [
              "<pre style=\"white-space:pre;overflow-x:auto;line-height:normal;font-family:Menlo,'DejaVu Sans Mono',consolas,'Courier New',monospace\">tunedModels/fatimakgeneng2\n",
              "</pre>\n"
            ]
          },
          "metadata": {}
        },
        {
          "output_type": "display_data",
          "data": {
            "text/plain": [
              "tunedModels/fatimakgeneng8\n"
            ],
            "text/html": [
              "<pre style=\"white-space:pre;overflow-x:auto;line-height:normal;font-family:Menlo,'DejaVu Sans Mono',consolas,'Courier New',monospace\">tunedModels/fatimakgeneng8\n",
              "</pre>\n"
            ]
          },
          "metadata": {}
        }
      ],
      "source": [
        "for i, m in zip(range(5), genai.list_tuned_models()):\n",
        "  print(m.name)"
      ]
    },
    {
      "cell_type": "code",
      "source": [
        "# Evalute\n",
        "model = genai.GenerativeModel(model_name=\"tunedModels/fatimakgeneng8\")"
      ],
      "metadata": {
        "id": "8F57N0dzoFGe"
      },
      "execution_count": 72,
      "outputs": []
    },
    {
      "cell_type": "code",
      "source": [
        "query = '55'\n",
        "result = model.generate_content(query)\n",
        "print(f\"Query 1: {query}, Result: {result.text}\")\n",
        "\n",
        "query = '123455'\n",
        "result = model.generate_content(query)\n",
        "print(f\"Query 2: {query}, Result: {result.text}\")\n",
        "\n",
        "query = 'four'\n",
        "result = model.generate_content(query)\n",
        "print(f\"Query 3: {query}, Result: {result.text}\")\n",
        "\n",
        "query = 'quatre' #4\n",
        "result = model.generate_content(query)\n",
        "print(f\"Query 4: {query}, Result: {result.text}\")\n",
        "\n",
        "query = 'III'\n",
        "result = model.generate_content(query)\n",
        "print(f\"Query 5: {query}, Result: {result.text}\")\n",
        "\n",
        "query = '七' #7\n",
        "result = model.generate_content(query)\n",
        "print(f\"Query 6: {query}, Result: {result.text}\")"
      ],
      "metadata": {
        "colab": {
          "base_uri": "https://localhost:8080/",
          "height": 121
        },
        "id": "kcXAY7dasdVc",
        "outputId": "5c50b22b-cef5-43c0-fed8-25e423e7e16c"
      },
      "execution_count": 73,
      "outputs": [
        {
          "output_type": "display_data",
          "data": {
            "text/plain": [
              "Query \u001b[1;36m1\u001b[0m: \u001b[1;36m55\u001b[0m, Result: \u001b[1;36m56\u001b[0m\n"
            ],
            "text/html": [
              "<pre style=\"white-space:pre;overflow-x:auto;line-height:normal;font-family:Menlo,'DejaVu Sans Mono',consolas,'Courier New',monospace\">Query <span style=\"color: #008080; text-decoration-color: #008080; font-weight: bold\">1</span>: <span style=\"color: #008080; text-decoration-color: #008080; font-weight: bold\">55</span>, Result: <span style=\"color: #008080; text-decoration-color: #008080; font-weight: bold\">56</span>\n",
              "</pre>\n"
            ]
          },
          "metadata": {}
        },
        {
          "output_type": "display_data",
          "data": {
            "text/plain": [
              "Query \u001b[1;36m2\u001b[0m: \u001b[1;36m123455\u001b[0m, Result: \u001b[1;36m123456\u001b[0m\n"
            ],
            "text/html": [
              "<pre style=\"white-space:pre;overflow-x:auto;line-height:normal;font-family:Menlo,'DejaVu Sans Mono',consolas,'Courier New',monospace\">Query <span style=\"color: #008080; text-decoration-color: #008080; font-weight: bold\">2</span>: <span style=\"color: #008080; text-decoration-color: #008080; font-weight: bold\">123455</span>, Result: <span style=\"color: #008080; text-decoration-color: #008080; font-weight: bold\">123456</span>\n",
              "</pre>\n"
            ]
          },
          "metadata": {}
        },
        {
          "output_type": "display_data",
          "data": {
            "text/plain": [
              "Query \u001b[1;36m3\u001b[0m: four, Result: five\n"
            ],
            "text/html": [
              "<pre style=\"white-space:pre;overflow-x:auto;line-height:normal;font-family:Menlo,'DejaVu Sans Mono',consolas,'Courier New',monospace\">Query <span style=\"color: #008080; text-decoration-color: #008080; font-weight: bold\">3</span>: four, Result: five\n",
              "</pre>\n"
            ]
          },
          "metadata": {}
        },
        {
          "output_type": "display_data",
          "data": {
            "text/plain": [
              "Query \u001b[1;36m4\u001b[0m: quatre, Result: cinq\n"
            ],
            "text/html": [
              "<pre style=\"white-space:pre;overflow-x:auto;line-height:normal;font-family:Menlo,'DejaVu Sans Mono',consolas,'Courier New',monospace\">Query <span style=\"color: #008080; text-decoration-color: #008080; font-weight: bold\">4</span>: quatre, Result: cinq\n",
              "</pre>\n"
            ]
          },
          "metadata": {}
        },
        {
          "output_type": "display_data",
          "data": {
            "text/plain": [
              "Query \u001b[1;36m5\u001b[0m: III, Result: IV\n"
            ],
            "text/html": [
              "<pre style=\"white-space:pre;overflow-x:auto;line-height:normal;font-family:Menlo,'DejaVu Sans Mono',consolas,'Courier New',monospace\">Query <span style=\"color: #008080; text-decoration-color: #008080; font-weight: bold\">5</span>: III, Result: IV\n",
              "</pre>\n"
            ]
          },
          "metadata": {}
        },
        {
          "output_type": "display_data",
          "data": {
            "text/plain": [
              "Query \u001b[1;36m6\u001b[0m: 七, Result: 八\n"
            ],
            "text/html": [
              "<pre style=\"white-space:pre;overflow-x:auto;line-height:normal;font-family:Menlo,'DejaVu Sans Mono',consolas,'Courier New',monospace\">Query <span style=\"color: #008080; text-decoration-color: #008080; font-weight: bold\">6</span>: 七, Result: 八\n",
              "</pre>\n"
            ]
          },
          "metadata": {}
        }
      ]
    },
    {
      "cell_type": "markdown",
      "metadata": {
        "id": "lqiL0TWDqAPn"
      },
      "source": [
        "Once the tuning is complete, you can view the loss curve from the tuning results. The [loss curve](https://ai.google.dev/gemini-api/docs/model-tuning#recommended_configurations) shows how much the model's predictions deviate from the ideal outputs."
      ]
    },
    {
      "cell_type": "code",
      "execution_count": 74,
      "metadata": {
        "id": "bIiG57xWLhP7",
        "outputId": "575ec94b-2377-4691-b8c2-faed275578c8",
        "colab": {
          "base_uri": "https://localhost:8080/",
          "height": 466
        }
      },
      "outputs": [
        {
          "output_type": "execute_result",
          "data": {
            "text/plain": [
              "<Axes: xlabel='epoch', ylabel='mean_loss'>"
            ]
          },
          "metadata": {},
          "execution_count": 74
        },
        {
          "output_type": "display_data",
          "data": {
            "text/plain": [
              "<Figure size 640x480 with 1 Axes>"
            ],
            "image/png": "[encoded data removed]"
          },
          "metadata": {}
        }
      ],
      "source": [
        "import pandas as pd\n",
        "import seaborn as sns\n",
        "\n",
        "model = operation.result()\n",
        "\n",
        "snapshots = pd.DataFrame(model.tuning_task.snapshots)\n",
        "\n",
        "sns.lineplot(data=snapshots, x = 'epoch', y='mean_loss')\n"
      ]
    },
    {
      "cell_type": "code",
      "source": [],
      "metadata": {
        "id": "G1cnR_QhyXFw"
      },
      "execution_count": null,
      "outputs": []
    },
    {
      "cell_type": "code",
      "source": [],
      "metadata": {
        "id": "oSKaeGZZyW4Q"
      },
      "execution_count": null,
      "outputs": []
    },
    {
      "cell_type": "markdown",
      "source": [
        "# **Miscellaneous**"
      ],
      "metadata": {
        "id": "Fz_FkcQYyUYB"
      }
    },
    {
      "cell_type": "markdown",
      "metadata": {
        "id": "nmuQCbTYwIOx"
      },
      "source": [
        "## Update the description\n",
        "\n",
        "You can update the description of your tuned model any time using the `genai.update_tuned_model` method."
      ]
    },
    {
      "cell_type": "code",
      "execution_count": null,
      "metadata": {
        "id": "9gAVuXT_wG3x"
      },
      "outputs": [],
      "source": [
        "genai.update_tuned_model(f'tunedModels/{name}', {\"description\":\"This is my model.\"});"
      ]
    },
    {
      "cell_type": "code",
      "execution_count": null,
      "metadata": {
        "id": "d-c3YerBxVYs",
        "outputId": "bcaf198f-cb5f-4565-d28b-ed299043c559"
      },
      "outputs": [
        {
          "data": {
            "application/vnd.google.colaboratory.intrinsic+json": {
              "type": "string"
            },
            "text/plain": [
              "'This is my model.'"
            ]
          },
          "execution_count": 22,
          "metadata": {},
          "output_type": "execute_result"
        }
      ],
      "source": [
        "model = genai.get_tuned_model(f'tunedModels/{name}')\n",
        "\n",
        "model.description"
      ]
    },
    {
      "cell_type": "markdown",
      "metadata": {
        "id": "i_TpwvBB4bQ7"
      },
      "source": [
        "## Delete the model\n",
        "\n",
        "You can clean up your tuned model list by deleting models you no longer need. Use the `genai.delete_tuned_model` method to delete a model. If you canceled any tuning jobs, you may want to delete those as their performance may be unpredictable."
      ]
    },
    {
      "cell_type": "code",
      "execution_count": null,
      "metadata": {
        "id": "cepfaUCvVGCo"
      },
      "outputs": [],
      "source": [
        "genai.delete_tuned_model(f'tunedModels/{name}')"
      ]
    },
    {
      "cell_type": "markdown",
      "metadata": {
        "id": "ljEssIshYDEr"
      },
      "source": [
        "The model no longer exists:"
      ]
    },
    {
      "cell_type": "code",
      "execution_count": null,
      "metadata": {
        "id": "kN_bkut_4ayL",
        "outputId": "7221b9bf-9156-4dce-9103-8fb548803cf4"
      },
      "outputs": [
        {
          "name": "stdout",
          "output_type": "stream",
          "text": [
            "<class 'google.api_core.exceptions.NotFound'>: 404 GET https://generativelanguage.googleapis.com/v1beta/tunedModels/generate-num-8122?%24alt=json%3Benum-encoding%3Dint: Tuned model tunedModels/generate-num-8122 does not exist.\n"
          ]
        },
        {
          "name": "stderr",
          "output_type": "stream",
          "text": [
            "WARNING:tornado.access:404 GET /v1beta/tunedModels/generate-num-8122?%24alt=json%3Benum-encoding%3Dint (127.0.0.1) 838.85ms\n"
          ]
        }
      ],
      "source": [
        "try:\n",
        "  m = genai.get_tuned_model(f'tunedModels/{name}')\n",
        "  print(m)\n",
        "except Exception as e:\n",
        "  print(f\"{type(e)}: {e}\")"
      ]
    }
  ],
  "metadata": {
    "colab": {
      "provenance": [],
      "include_colab_link": true
    },
    "kernelspec": {
      "display_name": "Python 3",
      "name": "python3"
    },
    "widgets": {
      "application/vnd.jupyter.widget-state+json": {
        "3db5d4e9a9644d028194d8c866899c57": {
          "model_module": "@jupyter-widgets/controls",
          "model_name": "HBoxModel",
          "model_module_version": "1.5.0",
          "state": {
            "_dom_classes": [],
            "_model_module": "@jupyter-widgets/controls",
            "_model_module_version": "1.5.0",
            "_model_name": "HBoxModel",
            "_view_count": null,
            "_view_module": "@jupyter-widgets/controls",
            "_view_module_version": "1.5.0",
            "_view_name": "HBoxView",
            "box_style": "",
            "children": [
              "IPY_MODEL_1ce72a3be85b4af086df1748bb001df2",
              "IPY_MODEL_f9898f12abbb40df8a0ca7b530d89a82",
              "IPY_MODEL_f17f6b78e0234532a4988dd3f143f74c"
            ],
            "layout": "IPY_MODEL_2aba28d8da0c4d008b20610fe3b08142"
          }
        },
        "1ce72a3be85b4af086df1748bb001df2": {
          "model_module": "@jupyter-widgets/controls",
          "model_name": "HTMLModel",
          "model_module_version": "1.5.0",
          "state": {
            "_dom_classes": [],
            "_model_module": "@jupyter-widgets/controls",
            "_model_module_version": "1.5.0",
            "_model_name": "HTMLModel",
            "_view_count": null,
            "_view_module": "@jupyter-widgets/controls",
            "_view_module_version": "1.5.0",
            "_view_name": "HTMLView",
            "description": "",
            "description_tooltip": null,
            "layout": "IPY_MODEL_fc5480f46c284c6ca8ebc40b2600c470",
            "placeholder": "​",
            "style": "IPY_MODEL_45bed33b1a6c4bf3a278ef8d55f4d807",
            "value": "100%"
          }
        },
        "f9898f12abbb40df8a0ca7b530d89a82": {
          "model_module": "@jupyter-widgets/controls",
          "model_name": "FloatProgressModel",
          "model_module_version": "1.5.0",
          "state": {
            "_dom_classes": [],
            "_model_module": "@jupyter-widgets/controls",
            "_model_module_version": "1.5.0",
            "_model_name": "FloatProgressModel",
            "_view_count": null,
            "_view_module": "@jupyter-widgets/controls",
            "_view_module_version": "1.5.0",
            "_view_name": "ProgressView",
            "bar_style": "success",
            "description": "",
            "description_tooltip": null,
            "layout": "IPY_MODEL_8986687e4f8d472d9fbb5c5f2323e4aa",
            "max": 19,
            "min": 0,
            "orientation": "horizontal",
            "style": "IPY_MODEL_4d0372ad47234a478d52928036e3b085",
            "value": 19
          }
        },
        "f17f6b78e0234532a4988dd3f143f74c": {
          "model_module": "@jupyter-widgets/controls",
          "model_name": "HTMLModel",
          "model_module_version": "1.5.0",
          "state": {
            "_dom_classes": [],
            "_model_module": "@jupyter-widgets/controls",
            "_model_module_version": "1.5.0",
            "_model_name": "HTMLModel",
            "_view_count": null,
            "_view_module": "@jupyter-widgets/controls",
            "_view_module_version": "1.5.0",
            "_view_name": "HTMLView",
            "description": "",
            "description_tooltip": null,
            "layout": "IPY_MODEL_43b28369df1440fcbaa4e6230941f04e",
            "placeholder": "​",
            "style": "IPY_MODEL_0bdadc73b4d242b5b8ce6a5de298fb51",
            "value": " 19/19 [12:46&lt;00:00,  1.77s/it]"
          }
        },
        "2aba28d8da0c4d008b20610fe3b08142": {
          "model_module": "@jupyter-widgets/base",
          "model_name": "LayoutModel",
          "model_module_version": "1.2.0",
          "state": {
            "_model_module": "@jupyter-widgets/base",
            "_model_module_version": "1.2.0",
            "_model_name": "LayoutModel",
            "_view_count": null,
            "_view_module": "@jupyter-widgets/base",
            "_view_module_version": "1.2.0",
            "_view_name": "LayoutView",
            "align_content": null,
            "align_items": null,
            "align_self": null,
            "border": null,
            "bottom": null,
            "display": null,
            "flex": null,
            "flex_flow": null,
            "grid_area": null,
            "grid_auto_columns": null,
            "grid_auto_flow": null,
            "grid_auto_rows": null,
            "grid_column": null,
            "grid_gap": null,
            "grid_row": null,
            "grid_template_areas": null,
            "grid_template_columns": null,
            "grid_template_rows": null,
            "height": null,
            "justify_content": null,
            "justify_items": null,
            "left": null,
            "margin": null,
            "max_height": null,
            "max_width": null,
            "min_height": null,
            "min_width": null,
            "object_fit": null,
            "object_position": null,
            "order": null,
            "overflow": null,
            "overflow_x": null,
            "overflow_y": null,
            "padding": null,
            "right": null,
            "top": null,
            "visibility": null,
            "width": null
          }
        },
        "fc5480f46c284c6ca8ebc40b2600c470": {
          "model_module": "@jupyter-widgets/base",
          "model_name": "LayoutModel",
          "model_module_version": "1.2.0",
          "state": {
            "_model_module": "@jupyter-widgets/base",
            "_model_module_version": "1.2.0",
            "_model_name": "LayoutModel",
            "_view_count": null,
            "_view_module": "@jupyter-widgets/base",
            "_view_module_version": "1.2.0",
            "_view_name": "LayoutView",
            "align_content": null,
            "align_items": null,
            "align_self": null,
            "border": null,
            "bottom": null,
            "display": null,
            "flex": null,
            "flex_flow": null,
            "grid_area": null,
            "grid_auto_columns": null,
            "grid_auto_flow": null,
            "grid_auto_rows": null,
            "grid_column": null,
            "grid_gap": null,
            "grid_row": null,
            "grid_template_areas": null,
            "grid_template_columns": null,
            "grid_template_rows": null,
            "height": null,
            "justify_content": null,
            "justify_items": null,
            "left": null,
            "margin": null,
            "max_height": null,
            "max_width": null,
            "min_height": null,
            "min_width": null,
            "object_fit": null,
            "object_position": null,
            "order": null,
            "overflow": null,
            "overflow_x": null,
            "overflow_y": null,
            "padding": null,
            "right": null,
            "top": null,
            "visibility": null,
            "width": null
          }
        },
        "45bed33b1a6c4bf3a278ef8d55f4d807": {
          "model_module": "@jupyter-widgets/controls",
          "model_name": "DescriptionStyleModel",
          "model_module_version": "1.5.0",
          "state": {
            "_model_module": "@jupyter-widgets/controls",
            "_model_module_version": "1.5.0",
            "_model_name": "DescriptionStyleModel",
            "_view_count": null,
            "_view_module": "@jupyter-widgets/base",
            "_view_module_version": "1.2.0",
            "_view_name": "StyleView",
            "description_width": ""
          }
        },
        "8986687e4f8d472d9fbb5c5f2323e4aa": {
          "model_module": "@jupyter-widgets/base",
          "model_name": "LayoutModel",
          "model_module_version": "1.2.0",
          "state": {
            "_model_module": "@jupyter-widgets/base",
            "_model_module_version": "1.2.0",
            "_model_name": "LayoutModel",
            "_view_count": null,
            "_view_module": "@jupyter-widgets/base",
            "_view_module_version": "1.2.0",
            "_view_name": "LayoutView",
            "align_content": null,
            "align_items": null,
            "align_self": null,
            "border": null,
            "bottom": null,
            "display": null,
            "flex": null,
            "flex_flow": null,
            "grid_area": null,
            "grid_auto_columns": null,
            "grid_auto_flow": null,
            "grid_auto_rows": null,
            "grid_column": null,
            "grid_gap": null,
            "grid_row": null,
            "grid_template_areas": null,
            "grid_template_columns": null,
            "grid_template_rows": null,
            "height": null,
            "justify_content": null,
            "justify_items": null,
            "left": null,
            "margin": null,
            "max_height": null,
            "max_width": null,
            "min_height": null,
            "min_width": null,
            "object_fit": null,
            "object_position": null,
            "order": null,
            "overflow": null,
            "overflow_x": null,
            "overflow_y": null,
            "padding": null,
            "right": null,
            "top": null,
            "visibility": null,
            "width": null
          }
        },
        "4d0372ad47234a478d52928036e3b085": {
          "model_module": "@jupyter-widgets/controls",
          "model_name": "ProgressStyleModel",
          "model_module_version": "1.5.0",
          "state": {
            "_model_module": "@jupyter-widgets/controls",
            "_model_module_version": "1.5.0",
            "_model_name": "ProgressStyleModel",
            "_view_count": null,
            "_view_module": "@jupyter-widgets/base",
            "_view_module_version": "1.2.0",
            "_view_name": "StyleView",
            "bar_color": null,
            "description_width": ""
          }
        },
        "43b28369df1440fcbaa4e6230941f04e": {
          "model_module": "@jupyter-widgets/base",
          "model_name": "LayoutModel",
          "model_module_version": "1.2.0",
          "state": {
            "_model_module": "@jupyter-widgets/base",
            "_model_module_version": "1.2.0",
            "_model_name": "LayoutModel",
            "_view_count": null,
            "_view_module": "@jupyter-widgets/base",
            "_view_module_version": "1.2.0",
            "_view_name": "LayoutView",
            "align_content": null,
            "align_items": null,
            "align_self": null,
            "border": null,
            "bottom": null,
            "display": null,
            "flex": null,
            "flex_flow": null,
            "grid_area": null,
            "grid_auto_columns": null,
            "grid_auto_flow": null,
            "grid_auto_rows": null,
            "grid_column": null,
            "grid_gap": null,
            "grid_row": null,
            "grid_template_areas": null,
            "grid_template_columns": null,
            "grid_template_rows": null,
            "height": null,
            "justify_content": null,
            "justify_items": null,
            "left": null,
            "margin": null,
            "max_height": null,
            "max_width": null,
            "min_height": null,
            "min_width": null,
            "object_fit": null,
            "object_position": null,
            "order": null,
            "overflow": null,
            "overflow_x": null,
            "overflow_y": null,
            "padding": null,
            "right": null,
            "top": null,
            "visibility": null,
            "width": null
          }
        },
        "0bdadc73b4d242b5b8ce6a5de298fb51": {
          "model_module": "@jupyter-widgets/controls",
          "model_name": "DescriptionStyleModel",
          "model_module_version": "1.5.0",
          "state": {
            "_model_module": "@jupyter-widgets/controls",
            "_model_module_version": "1.5.0",
            "_model_name": "DescriptionStyleModel",
            "_view_count": null,
            "_view_module": "@jupyter-widgets/base",
            "_view_module_version": "1.2.0",
            "_view_name": "StyleView",
            "description_width": ""
          }
        }
      }
    }
  },
  "nbformat": 4,
  "nbformat_minor": 0
}